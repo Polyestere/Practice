{
  "nbformat": 4,
  "nbformat_minor": 0,
  "metadata": {
    "colab": {
      "provenance": []
    },
    "kernelspec": {
      "name": "python3",
      "display_name": "Python 3"
    },
    "language_info": {
      "name": "python"
    }
  },
  "cells": [
    {
      "cell_type": "markdown",
      "source": [
        "###지능형 리스트"
      ],
      "metadata": {
        "id": "r3yq8WMnxhST"
      }
    },
    {
      "cell_type": "code",
      "execution_count": 1,
      "metadata": {
        "colab": {
          "base_uri": "https://localhost:8080/"
        },
        "id": "dR8AufETozeW",
        "outputId": "01bb6bfb-0aef-4636-b937-a43b93ce38da"
      },
      "outputs": [
        {
          "output_type": "stream",
          "name": "stdout",
          "text": [
            "[36, 42, 38, 33, 64]\n"
          ]
        }
      ],
      "source": [
        "#예제1\n",
        "symbols = \"$*&!@\"\n",
        "codes = []\n",
        "\n",
        "for symbol in symbols:\n",
        "    codes.append(ord(symbol))\n",
        "#ord() 아스키코드를 정수로 표현해줌\n",
        "print(codes)"
      ]
    },
    {
      "cell_type": "code",
      "source": [
        "#예제2\n",
        "symbols = \"$*&!@\"\n",
        "\n",
        "codes = [ord(symbol) for symbol in symbols]\n",
        "\n",
        "print(codes)"
      ],
      "metadata": {
        "colab": {
          "base_uri": "https://localhost:8080/"
        },
        "id": "VB3DYJAkpH0y",
        "outputId": "a7115bd2-69e5-4d33-ca19-814ed77da581"
      },
      "execution_count": 2,
      "outputs": [
        {
          "output_type": "stream",
          "name": "stdout",
          "text": [
            "[36, 42, 38, 33, 64]\n"
          ]
        }
      ]
    },
    {
      "cell_type": "code",
      "source": [
        "#예제3\n",
        "x = '\"!$$*&!@'\n",
        "dummy = [ord(x) for x in x]\n",
        "#파이썬은 지역범위로 코드 블록을 구분하기 때문에\n",
        "#지능형 리스트 내의 변수명이 같아도 실행 가능함.\n",
        "print(x)\n",
        "print(dummy)"
      ],
      "metadata": {
        "colab": {
          "base_uri": "https://localhost:8080/"
        },
        "id": "i853b7VLpPVi",
        "outputId": "f4905fd6-c7c1-4cff-c698-760448f4655a"
      },
      "execution_count": 3,
      "outputs": [
        {
          "output_type": "stream",
          "name": "stdout",
          "text": [
            "\"!$$*&!@\n",
            "[34, 33, 36, 36, 42, 38, 33, 64]\n"
          ]
        }
      ]
    },
    {
      "cell_type": "code",
      "source": [
        "#예제4\n",
        "symbols = '\"!~$$*&!@'\n",
        "beyond_ascii = [ord(s) for s in symbols if ord(s) > 32]\n",
        "print(beyond_ascii)"
      ],
      "metadata": {
        "colab": {
          "base_uri": "https://localhost:8080/"
        },
        "id": "9QclBB7epbGf",
        "outputId": "acbce40b-df6b-4970-fa93-20f641327853"
      },
      "execution_count": 18,
      "outputs": [
        {
          "output_type": "stream",
          "name": "stdout",
          "text": [
            "[34, 33, 126, 36, 36, 42, 38, 33, 64]\n"
          ]
        }
      ]
    },
    {
      "cell_type": "code",
      "source": [
        "#예제5\n",
        "symbols = '\"!~$$*&!@'\n",
        "beyond_ascii = list(filter(lambda c: c>64, map(ord,symbols)))\n",
        "#filter() 값이 true인 경우만 값을 리턴\n",
        "#lambda 일회용 함수 구현(원래는 def ~ 이런식으로 구현)\n",
        "#map(매핑시킬 함수이름, 매핑 대상)\n",
        "print(beyond_ascii, '\\n')\n",
        "\n",
        "print(f\"Map function:\\n>>> {map(ord,symbols)}\")\n",
        "print(f\"List after map:\\n>>> {list(map(ord,symbols))}\")"
      ],
      "metadata": {
        "colab": {
          "base_uri": "https://localhost:8080/"
        },
        "id": "etR0S_qJpox3",
        "outputId": "802b7ec3-03b1-4d5d-b8ff-0387f5ee51b3"
      },
      "execution_count": 6,
      "outputs": [
        {
          "output_type": "stream",
          "name": "stdout",
          "text": [
            "[126] \n",
            "\n",
            "Map function:\n",
            ">>> <map object at 0x7c5da468a6b0>\n",
            "List after map:\n",
            ">>> [34, 33, 126, 36, 36, 42, 38, 33, 64]\n"
          ]
        }
      ]
    },
    {
      "cell_type": "markdown",
      "source": [
        "###데카르트 곱"
      ],
      "metadata": {
        "id": "RuggdrWJxzLq"
      }
    },
    {
      "cell_type": "code",
      "source": [
        "#예제6\n",
        "colors = ['black','white']\n",
        "sizes = ['S','M','L']\n",
        "tshirts = [(color, size) for color in colors for size in sizes]\n",
        "#for size in sizes:\n",
        "#   for colors in color:\n",
        "#이런 조건문을 지능형리스트로 바꾸면 위의 문장이 됨.\n",
        "print(tshirts)\n",
        "\n",
        "for color in colors:\n",
        "    for size in sizes:\n",
        "      print((color, size))"
      ],
      "metadata": {
        "colab": {
          "base_uri": "https://localhost:8080/"
        },
        "id": "1lFmkgdsqJsF",
        "outputId": "04f74bc3-359d-4988-a4c1-1456832ed6bd"
      },
      "execution_count": 8,
      "outputs": [
        {
          "output_type": "stream",
          "name": "stdout",
          "text": [
            "[('black', 'S'), ('black', 'M'), ('black', 'L'), ('white', 'S'), ('white', 'M'), ('white', 'L')]\n",
            "('black', 'S')\n",
            "('black', 'M')\n",
            "('black', 'L')\n",
            "('white', 'S')\n",
            "('white', 'M')\n",
            "('white', 'L')\n"
          ]
        }
      ]
    },
    {
      "cell_type": "markdown",
      "source": [
        "###제너레이터\n"
      ],
      "metadata": {
        "id": "n1khgpIXzBLp"
      }
    },
    {
      "cell_type": "code",
      "source": [
        "#예제7\n",
        "symbols = \"!#^&&#\"\n",
        "ord_s = tuple(ord(s) for s in symbols if ord(s))\n",
        "#지능형리스트는 시퀀스를 모두 실행하고 변수에 값을 반환하지만\n",
        "#제너레이터는 파이프 라인을 만들어 내가 요청할 때마다 항목을 하나씩 처리해서 반환\n",
        "#대용량 데이터 처리는 제너레이터가 유리.\n",
        "\n",
        "#지능형 리스트(한번에 처리 후 반환)\n",
        "#1,2,3,4,5  -> 1,2,3,4,5\n",
        "#제너레이터(요청 시 마다 처리 후 반환)\n",
        "#1->1, 2->2, 3->3, 4->4, 5->5\n",
        "print(ord_s)"
      ],
      "metadata": {
        "colab": {
          "base_uri": "https://localhost:8080/"
        },
        "id": "8QiXlXJJqjdu",
        "outputId": "ea86d0e2-63f4-4eab-ec6b-fd86b63bc936"
      },
      "execution_count": 9,
      "outputs": [
        {
          "output_type": "stream",
          "name": "stdout",
          "text": [
            "(33, 35, 94, 38, 38, 35)\n"
          ]
        }
      ]
    },
    {
      "cell_type": "code",
      "source": [
        "#예제7\n",
        "import array\n",
        "\n",
        "ord_s = array.array('I', (ord(symbol) for symbol in symbols))\n",
        "#값을 만들 때마다 array에 값 추가\n",
        "#지능형 리스트라면 값을 모두 만든 후 추가\n",
        "print(ord_s)"
      ],
      "metadata": {
        "colab": {
          "base_uri": "https://localhost:8080/"
        },
        "id": "n0sz6jSXqujP",
        "outputId": "798805e3-0324-4fa8-97c4-09740af26c38"
      },
      "execution_count": 10,
      "outputs": [
        {
          "output_type": "stream",
          "name": "stdout",
          "text": [
            "array('I', [33, 35, 94, 38, 38, 35])\n"
          ]
        }
      ]
    },
    {
      "cell_type": "code",
      "source": [
        "#예제8\n",
        "colors = ['black','white']\n",
        "sizes = ['S','M','L']\n",
        "\n",
        "for tshirt in ('{} {}'.format(c, s) for s in sizes for c in colors):\n",
        "      print(tshirt)"
      ],
      "metadata": {
        "colab": {
          "base_uri": "https://localhost:8080/"
        },
        "id": "a2JKY8xqq6R1",
        "outputId": "de4b4dc5-4049-4c72-9534-e99f3a976b1b"
      },
      "execution_count": 11,
      "outputs": [
        {
          "output_type": "stream",
          "name": "stdout",
          "text": [
            "black S\n",
            "white S\n",
            "black M\n",
            "white M\n",
            "black L\n",
            "white L\n"
          ]
        }
      ]
    },
    {
      "cell_type": "markdown",
      "source": [
        "###'레코드'로서의 튜플과 튜플 언패킹\n"
      ],
      "metadata": {
        "id": "fMLYi7lX0idZ"
      }
    },
    {
      "cell_type": "code",
      "source": [
        "#예제9\n",
        "#레코드는 파일과 유사\n",
        "#항목의 수가 고정되어 있고, 항목의 순서가 중요\n",
        "\n",
        "lax_coordinates = (33.9425, -118.408056)\n",
        "city, year, pop, chg, area = ('Tokyo', 2003, 32450, 0.66, 8014)\n",
        "traveler_ids = [('USA', '31195855'),\n",
        "              ('BRA', 'CE342567'),\n",
        "              ('ESP', 'XDA205856')]\n",
        "#튜플 언패킹\n",
        "for passport in sorted(traveler_ids):\n",
        "    print('%s/%s' % passport)\n",
        "    print('{}/{}'.format(passport[0], passport[1]))\n",
        "    print(f'{passport[0]}/{passport[1]}')"
      ],
      "metadata": {
        "colab": {
          "base_uri": "https://localhost:8080/"
        },
        "id": "QaPek8TerMlX",
        "outputId": "8b214882-3127-40cf-ee13-5f2fae84151c"
      },
      "execution_count": 14,
      "outputs": [
        {
          "output_type": "stream",
          "name": "stdout",
          "text": [
            "BRA/CE342567\n",
            "BRA/CE342567\n",
            "BRA/CE342567\n",
            "ESP/XDA205856\n",
            "ESP/XDA205856\n",
            "ESP/XDA205856\n",
            "USA/31195855\n",
            "USA/31195855\n",
            "USA/31195855\n"
          ]
        }
      ]
    },
    {
      "cell_type": "code",
      "source": [
        "#예제10\n",
        "lax_coordinates = (33.9425, -118.408056)\n",
        "city, year, pop, chg, area = ('Tokyo', 2003, 32450, 0.66, 8014)\n",
        "traveler_ids = [('USA', '31195855'),\n",
        "              ('BRA', 'CE342567'),\n",
        "              ('ESP', 'XDA205856')]\n",
        "\n",
        "for country, _ in traveler_ids:\n",
        "    print(country)\n",
        "#ex. USA가 country, 31195855가 _"
      ],
      "metadata": {
        "colab": {
          "base_uri": "https://localhost:8080/"
        },
        "id": "A6yERbHEsr8D",
        "outputId": "63dc3ff8-dbfe-4303-d38e-8472aaf5fd26"
      },
      "execution_count": 16,
      "outputs": [
        {
          "output_type": "stream",
          "name": "stdout",
          "text": [
            "USA\n",
            "BRA\n",
            "ESP\n"
          ]
        }
      ]
    },
    {
      "cell_type": "code",
      "source": [
        "#예제11\n",
        "\n",
        "lax_coordinates = (33.9425, -118.408056)\n",
        "latitude, longtitude = lax_coordinates\n",
        "print(latitude)\n",
        "print(longtitude)"
      ],
      "metadata": {
        "colab": {
          "base_uri": "https://localhost:8080/"
        },
        "id": "2XLgThI111vT",
        "outputId": "f3cfecfc-b332-4d3b-95dd-5cd2c7a63fbc"
      },
      "execution_count": 21,
      "outputs": [
        {
          "output_type": "stream",
          "name": "stdout",
          "text": [
            "33.9425\n",
            "-118.408056\n"
          ]
        }
      ]
    },
    {
      "cell_type": "code",
      "source": [
        "#예제12\n",
        "a=10; b=20\n",
        "b, a = a,b\n",
        "print(a, b)"
      ],
      "metadata": {
        "colab": {
          "base_uri": "https://localhost:8080/"
        },
        "id": "IS5xkXVu2UhH",
        "outputId": "86eaaf99-b0f6-49ff-bb1c-6fbec268ebd0"
      },
      "execution_count": 19,
      "outputs": [
        {
          "output_type": "stream",
          "name": "stdout",
          "text": [
            "20 10\n"
          ]
        }
      ]
    },
    {
      "cell_type": "code",
      "source": [
        "#예제13\n",
        "divmod(20,8)\n",
        "#나누기 후 몪과 나머지 출력\n",
        "\n",
        "t = (20, 8)\n",
        "divmod(*t)\n",
        "# * :언패킹할 변수를 가지고 있을 떄 사용 함(병렬 할당)\n",
        "\n",
        "quotient,remainder = divmod(*t)\n",
        "quotient, remainder"
      ],
      "metadata": {
        "colab": {
          "base_uri": "https://localhost:8080/"
        },
        "id": "kJdW997A2dAE",
        "outputId": "35dbefce-d1a5-4f4d-baac-4669b6ef6f00"
      },
      "execution_count": 20,
      "outputs": [
        {
          "output_type": "execute_result",
          "data": {
            "text/plain": [
              "(2, 4)"
            ]
          },
          "metadata": {},
          "execution_count": 20
        }
      ]
    },
    {
      "cell_type": "code",
      "source": [
        "#예제14\n",
        "import os\n",
        "_,filename = os.path.split('/home/luciano/.ssh/idrsa.pub')\n",
        "#_(placeholder): 필요없는 값 저장\n",
        "filename"
      ],
      "metadata": {
        "colab": {
          "base_uri": "https://localhost:8080/",
          "height": 36
        },
        "id": "Sj3rMI1W20Yc",
        "outputId": "561a20a4-2c43-451b-903b-a96a393089e5"
      },
      "execution_count": 25,
      "outputs": [
        {
          "output_type": "execute_result",
          "data": {
            "text/plain": [
              "'idrsa.pub'"
            ],
            "application/vnd.google.colaboratory.intrinsic+json": {
              "type": "string"
            }
          },
          "metadata": {},
          "execution_count": 25
        }
      ]
    },
    {
      "cell_type": "code",
      "source": [
        "#예제15\n",
        "a, b, *rest = range(5)\n",
        "a, b, rest\n",
        "#a,b까지는 보통 할당, *rest에 초과된 인수를 할당해줌(가변길이 변수 받아오기)\n",
        "#리스트 형태로 받아옴\n",
        "\n",
        "a, b, *rest = range(3)\n",
        "a, b, rest\n",
        "\n",
        "a, b, *rest = range(2)\n",
        "a, b, rest\n",
        "#들어올 값이 없으면 공백리스트가 됨"
      ],
      "metadata": {
        "colab": {
          "base_uri": "https://localhost:8080/"
        },
        "id": "xDfJCfvW3WWg",
        "outputId": "8f9ad03c-2ae8-4bea-ff93-c3ee89d1bf5d"
      },
      "execution_count": 24,
      "outputs": [
        {
          "output_type": "execute_result",
          "data": {
            "text/plain": [
              "(0, 1, [])"
            ]
          },
          "metadata": {},
          "execution_count": 24
        }
      ]
    },
    {
      "cell_type": "code",
      "source": [
        "#예제16\n",
        "a, *body, c, d = range(5)\n",
        "a, body, c, d\n",
        "#중간 사용시 초과될 인수만큼 알아서 할당되어 리스트로 받아짐\n",
        "#(0, [1, 2], 3, 4)\n",
        "\n",
        "*head, b, c, d = range(5)\n",
        "head, b, c, d"
      ],
      "metadata": {
        "colab": {
          "base_uri": "https://localhost:8080/"
        },
        "id": "oqJq2eJc33Xs",
        "outputId": "7d9f262e-cb29-49a0-b40b-6011b88aa44d"
      },
      "execution_count": 26,
      "outputs": [
        {
          "output_type": "execute_result",
          "data": {
            "text/plain": [
              "([0, 1], 2, 3, 4)"
            ]
          },
          "metadata": {},
          "execution_count": 26
        }
      ]
    },
    {
      "cell_type": "code",
      "source": [
        "#예제17\n",
        "metro_areas = [\n",
        "      (\"Tokyo\", \"JP\", 36.933, (35, 139)),\n",
        "      (\"Delhi NCR\", \"IN\", 21, (28,77)),\n",
        "      (\"Mexico City\", \"MX\", 20, (19, -99)),\n",
        "      (\"New York-Newark\", \"US\", 20, (40, -74)),\n",
        "      (\"Sao Paulo\", \"BR\", 19, (-23, -46))\n",
        "]\n",
        "print(\"{:15} | {:^9} | {:^9}\".format('', 'lat.', 'long.'))\n",
        "fmt = '{:15} | {:9.4f} | {:9.4f}'\n",
        "\n",
        "for name, cc, pop, (lat, longi) in metro_areas:\n",
        "    if longi <= 0:\n",
        "        print(fmt.format(name, lat, longi))"
      ],
      "metadata": {
        "colab": {
          "base_uri": "https://localhost:8080/"
        },
        "id": "ORP4fthr4TW8",
        "outputId": "0d6b1a99-6f61-4f7a-9019-8ac325c2febe"
      },
      "execution_count": 27,
      "outputs": [
        {
          "output_type": "stream",
          "name": "stdout",
          "text": [
            "                |   lat.    |   long.  \n",
            "Mexico City     |   19.0000 |  -99.0000\n",
            "New York-Newark |   40.0000 |  -74.0000\n",
            "Sao Paulo       |  -23.0000 |  -46.0000\n"
          ]
        }
      ]
    },
    {
      "cell_type": "markdown",
      "source": [
        "###네임드 튜플"
      ],
      "metadata": {
        "id": "ec66qWuN54ce"
      }
    },
    {
      "cell_type": "code",
      "source": [
        "#예제18\n",
        "from collections import namedtuple\n",
        "City = namedtuple('City', 'name country population coordinates')\n",
        "#레코드 필드의 이름\n",
        "tokyo = City('Tokyo','JP', 36.933, (35.689, 139.691))\n",
        "#어싸인된 변수에 값 추가\n",
        "tokyo\n",
        "tokyo.population\n",
        "tokyo.coordinates\n",
        "tokyo[1]"
      ],
      "metadata": {
        "colab": {
          "base_uri": "https://localhost:8080/",
          "height": 36
        },
        "id": "xMIyn8zR5YmF",
        "outputId": "98b413ed-4a04-45e5-dc97-38d8c9964227"
      },
      "execution_count": 29,
      "outputs": [
        {
          "output_type": "execute_result",
          "data": {
            "text/plain": [
              "'JP'"
            ],
            "application/vnd.google.colaboratory.intrinsic+json": {
              "type": "string"
            }
          },
          "metadata": {},
          "execution_count": 29
        }
      ]
    },
    {
      "cell_type": "code",
      "source": [
        "#예제19\n",
        "from collections import namedtuple\n",
        "City = namedtuple('City', 'name country population coordinates')\n",
        "tokyo = City('Tokyo','JP', 36.933, (35.689, 139.691))\n",
        "\n",
        "City._fields\n",
        "#('name', 'country', 'population', 'coordinates')\n",
        "\n",
        "LatLong = namedtuple('LatLong', 'lat long')\n",
        "delhi_data = ('Delhi NCR', 'IN', 21.935, LatLong(28.613, 77.208))\n",
        "delhi = City._make(delhi_data)\n",
        "delhi._asdict()\n",
        "# {'name': 'Delhi NCR',\n",
        "# 'country': 'IN',\n",
        "# 'population': 21.935,\n",
        "# 'coordinates': LatLong(lat=28.613, long=77.208)}\n",
        "\n",
        "\n",
        "for key, value in delhi._asdict().items():\n",
        "    print(key + ':', value)"
      ],
      "metadata": {
        "colab": {
          "base_uri": "https://localhost:8080/"
        },
        "id": "PUsKBgx456la",
        "outputId": "6007761e-9970-4fb4-806c-81d3aa887e0b"
      },
      "execution_count": 35,
      "outputs": [
        {
          "output_type": "stream",
          "name": "stdout",
          "text": [
            "name: Delhi NCR\n",
            "country: IN\n",
            "population: 21.935\n",
            "coordinates: LatLong(lat=28.613, long=77.208)\n"
          ]
        }
      ]
    },
    {
      "cell_type": "code",
      "source": [
        "#예제20\n",
        "ㅣ = [10, 20, 30, 40, 50, 60]\n",
        "ㅣ[:2]\n",
        "#[10, 20]\n",
        "ㅣ[2:]\n",
        "#30, 40, 50, 60]\n",
        "ㅣ[:3]\n",
        "#[10, 20, 30]\n",
        "ㅣ[3:]\n",
        "#[40, 50, 60]"
      ],
      "metadata": {
        "colab": {
          "base_uri": "https://localhost:8080/"
        },
        "id": "YPVeP0If6-ug",
        "outputId": "d901f424-2920-4347-8f6f-041b9a723008"
      },
      "execution_count": 40,
      "outputs": [
        {
          "output_type": "execute_result",
          "data": {
            "text/plain": [
              "[40, 50, 60]"
            ]
          },
          "metadata": {},
          "execution_count": 40
        }
      ]
    },
    {
      "cell_type": "code",
      "source": [
        "#예제21\n",
        "invoice = \"\"\"\n",
        "  0.....6..................25........33......40.......\n",
        "  1909 Pimoroni             $17.50    3      $52.50\n",
        "  1489 6mm Tactile          $4.95     2      $9.90\n",
        "  \"\"\"\n",
        "\n",
        "SKU = slice(0,6)\n",
        "DESCRIPTION = slice(6,25)\n",
        "UNIT_PRICE = slice(25,33)\n",
        "QUANTITTY = slice(33,40)\n",
        "ITEM_TOTAL = slice(40, None)\n",
        "\n",
        "line_items = invoice.split('\\n')[2:]\n",
        "\n",
        "for item in line_items:\n",
        "    print(item[UNIT_PRICE], item[DESCRIPTION])"
      ],
      "metadata": {
        "colab": {
          "base_uri": "https://localhost:8080/"
        },
        "id": "kbkdA8cx7dLQ",
        "outputId": "92488857-98f3-4d2f-ecb4-965bf2c5e2a8"
      },
      "execution_count": 51,
      "outputs": [
        {
          "output_type": "stream",
          "name": "stdout",
          "text": [
            "   $17.5  Pimoroni          \n",
            "   $4.95  6mm Tactile       \n",
            " \n"
          ]
        }
      ]
    },
    {
      "cell_type": "code",
      "source": [
        "#예제22\n",
        "l = list(range(10))\n",
        "l\n",
        "#0, 1, 2, 3, 4, 5, 6, 7, 8, 9]\n",
        "l[2:5] = [20,30]\n",
        "l\n",
        "#[0, 1, 20, 30, 5, 6, 7, 8, 9]\n",
        "del l[5:7]\n",
        "l\n",
        "#0, 1, 20, 30, 5, 8, 9]\n",
        "l[3::2] = [11, 22]\n",
        "l\n",
        "#[0, 1, 20, 11, 5, 22, 9]"
      ],
      "metadata": {
        "colab": {
          "base_uri": "https://localhost:8080/"
        },
        "id": "-YvKsiM9AZtQ",
        "outputId": "a3313faf-b236-4f72-b08a-a77b4bbb6fa4"
      },
      "execution_count": 57,
      "outputs": [
        {
          "output_type": "execute_result",
          "data": {
            "text/plain": [
              "[0, 1, 2, 3, 4, 5, 6, 7, 8, 9]"
            ]
          },
          "metadata": {},
          "execution_count": 57
        }
      ]
    },
    {
      "cell_type": "code",
      "source": [
        "#예제23\n",
        "l[2:5] = 100"
      ],
      "metadata": {
        "colab": {
          "base_uri": "https://localhost:8080/",
          "height": 168
        },
        "id": "nZxDPSvBGJi8",
        "outputId": "20ebd09e-97c3-43c8-b237-5b13392136c6"
      },
      "execution_count": 60,
      "outputs": [
        {
          "output_type": "error",
          "ename": "TypeError",
          "evalue": "can only assign an iterable",
          "traceback": [
            "\u001b[0;31m---------------------------------------------------------------------------\u001b[0m",
            "\u001b[0;31mTypeError\u001b[0m                                 Traceback (most recent call last)",
            "\u001b[0;32m<ipython-input-60-511c647d7b88>\u001b[0m in \u001b[0;36m<cell line: 2>\u001b[0;34m()\u001b[0m\n\u001b[1;32m      1\u001b[0m \u001b[0;31m#예제23\u001b[0m\u001b[0;34m\u001b[0m\u001b[0;34m\u001b[0m\u001b[0m\n\u001b[0;32m----> 2\u001b[0;31m \u001b[0ml\u001b[0m\u001b[0;34m[\u001b[0m\u001b[0;36m2\u001b[0m\u001b[0;34m:\u001b[0m\u001b[0;36m5\u001b[0m\u001b[0;34m]\u001b[0m \u001b[0;34m=\u001b[0m \u001b[0;36m100\u001b[0m\u001b[0;34m\u001b[0m\u001b[0;34m\u001b[0m\u001b[0m\n\u001b[0m",
            "\u001b[0;31mTypeError\u001b[0m: can only assign an iterable"
          ]
        }
      ]
    },
    {
      "cell_type": "code",
      "source": [
        "#예제24\n",
        "l[2:5] = [100]\n",
        "l"
      ],
      "metadata": {
        "colab": {
          "base_uri": "https://localhost:8080/"
        },
        "id": "2z4td9e0F7a5",
        "outputId": "2cdcd27b-f3e6-4f30-ca4f-36d701e46ed5"
      },
      "execution_count": 58,
      "outputs": [
        {
          "output_type": "execute_result",
          "data": {
            "text/plain": [
              "[0, 1, 100, 5, 6, 7, 8, 9]"
            ]
          },
          "metadata": {},
          "execution_count": 58
        }
      ]
    },
    {
      "cell_type": "code",
      "source": [
        "#예제25\n",
        "ㅣ = [1,2,3]\n",
        "ㅣ*5\n",
        "#1, 2, 3, 1, 2, 3, 1, 2, 3, 1, 2, 3, 1, 2, 3\n",
        "5* 'abcd'"
      ],
      "metadata": {
        "colab": {
          "base_uri": "https://localhost:8080/",
          "height": 36
        },
        "id": "9DlcSywxGPz9",
        "outputId": "c090b523-9732-4581-d0a3-bbf6faafbbc5"
      },
      "execution_count": 62,
      "outputs": [
        {
          "output_type": "execute_result",
          "data": {
            "text/plain": [
              "'abcdabcdabcdabcdabcd'"
            ],
            "application/vnd.google.colaboratory.intrinsic+json": {
              "type": "string"
            }
          },
          "metadata": {},
          "execution_count": 62
        }
      ]
    },
    {
      "cell_type": "code",
      "source": [
        "#예제26\n",
        "board = [['_'] * 3 for i in range(3)]\n",
        "board\n",
        "#['_', '_', '_'], ['_', '_', '_'], ['_', '_', '_']]\n",
        "\n",
        "board[1][2] = 'X'\n",
        "board\n"
      ],
      "metadata": {
        "colab": {
          "base_uri": "https://localhost:8080/"
        },
        "id": "ntqbyYcGGbbv",
        "outputId": "4a3f88dd-415d-4021-b862-50ea599e0c3a"
      },
      "execution_count": 64,
      "outputs": [
        {
          "output_type": "execute_result",
          "data": {
            "text/plain": [
              "[['_', '_', '_'], ['_', '_', 'X'], ['_', '_', '_']]"
            ]
          },
          "metadata": {},
          "execution_count": 64
        }
      ]
    },
    {
      "cell_type": "code",
      "source": [
        "#예제27\n",
        "weird_board = [['_'] * 3] * 3\n",
        "weird_board\n",
        "#[['_', '_', '_'], ['_', '_', '_'], ['_', '_', '_']]\n",
        "\n",
        "weird_board[1][2] = '0'\n",
        "weird_board"
      ],
      "metadata": {
        "colab": {
          "base_uri": "https://localhost:8080/"
        },
        "id": "yNjgFQXtGqYY",
        "outputId": "38781615-4488-49c1-9c75-41ee252a3003"
      },
      "execution_count": 66,
      "outputs": [
        {
          "output_type": "execute_result",
          "data": {
            "text/plain": [
              "[['_', '_', '0'], ['_', '_', '0'], ['_', '_', '0']]"
            ]
          },
          "metadata": {},
          "execution_count": 66
        }
      ]
    },
    {
      "cell_type": "code",
      "source": [
        "#예제28\n",
        "row = ['_'] * 3\n",
        "board = []\n",
        "for i in range(3):\n",
        "    board.append(row)\n",
        "\n",
        "board[1][2] = 'X'\n",
        "\n",
        "board"
      ],
      "metadata": {
        "colab": {
          "base_uri": "https://localhost:8080/"
        },
        "id": "u1zmENrwG3J4",
        "outputId": "f0b8b2c2-ddd7-458d-c6cd-474f9af87bff"
      },
      "execution_count": 67,
      "outputs": [
        {
          "output_type": "execute_result",
          "data": {
            "text/plain": [
              "[['_', '_', 'X'], ['_', '_', 'X'], ['_', '_', 'X']]"
            ]
          },
          "metadata": {},
          "execution_count": 67
        }
      ]
    },
    {
      "cell_type": "code",
      "source": [
        "#예제29\n",
        "board = []\n",
        "for i in range(3):\n",
        "    row = ['_'] * 3\n",
        "    board.append(row)\n",
        "\n",
        "print(board)\n",
        "\n",
        "board[2][0] = 'X'\n",
        "\n",
        "board"
      ],
      "metadata": {
        "colab": {
          "base_uri": "https://localhost:8080/"
        },
        "id": "p12PhNw3HBpl",
        "outputId": "98bddc00-27df-4050-b2af-8430453156cb"
      },
      "execution_count": 68,
      "outputs": [
        {
          "output_type": "stream",
          "name": "stdout",
          "text": [
            "[['_', '_', '_'], ['_', '_', '_'], ['_', '_', '_']]\n"
          ]
        },
        {
          "output_type": "execute_result",
          "data": {
            "text/plain": [
              "[['_', '_', '_'], ['_', '_', '_'], ['X', '_', '_']]"
            ]
          },
          "metadata": {},
          "execution_count": 68
        }
      ]
    },
    {
      "cell_type": "code",
      "source": [
        "#예제30\n",
        "l = [1,2,3]\n",
        "id(l)\n",
        "#136741632157888\n",
        "\n",
        "l *= 2\n",
        "l\n",
        "#[1, 2, 3, 1, 2, 3]\n",
        "\n",
        "id(l)"
      ],
      "metadata": {
        "colab": {
          "base_uri": "https://localhost:8080/"
        },
        "id": "HsCkFg7SHQqe",
        "outputId": "09016165-73a6-440b-a2bd-38658213479a"
      },
      "execution_count": 71,
      "outputs": [
        {
          "output_type": "execute_result",
          "data": {
            "text/plain": [
              "136741656476288"
            ]
          },
          "metadata": {},
          "execution_count": 71
        }
      ]
    },
    {
      "cell_type": "code",
      "source": [
        "#예제31\n",
        "t = (1,2,3)\n",
        "id(t)\n",
        "#136741633024768\n",
        "\n",
        "t *= 2\n",
        "id(t)"
      ],
      "metadata": {
        "colab": {
          "base_uri": "https://localhost:8080/"
        },
        "id": "D00W-8RUHhrm",
        "outputId": "5c637a31-64cb-4cb1-d0b0-71c245e3cfdf"
      },
      "execution_count": 73,
      "outputs": [
        {
          "output_type": "execute_result",
          "data": {
            "text/plain": [
              "136741642133248"
            ]
          },
          "metadata": {},
          "execution_count": 73
        }
      ]
    },
    {
      "cell_type": "code",
      "source": [
        "#예제32\n",
        "t = (1,2, [30,40])\n",
        "print(t)\n",
        "\n",
        "t[2] += [50,60]"
      ],
      "metadata": {
        "id": "1LhGBQa6Htth"
      },
      "execution_count": null,
      "outputs": []
    },
    {
      "cell_type": "code",
      "source": [
        "#예제33\n",
        "t = (1,2, [30,40])\n",
        "print(t)\n",
        "\n",
        "t[2] += [50 ,60]"
      ],
      "metadata": {
        "colab": {
          "base_uri": "https://localhost:8080/",
          "height": 205
        },
        "id": "fq7N16LIH39X",
        "outputId": "80d26cff-05e4-4ea2-8809-47359a6ed816"
      },
      "execution_count": 78,
      "outputs": [
        {
          "output_type": "stream",
          "name": "stdout",
          "text": [
            "(1, 2, [30, 40])\n"
          ]
        },
        {
          "output_type": "error",
          "ename": "TypeError",
          "evalue": "'tuple' object does not support item assignment",
          "traceback": [
            "\u001b[0;31m---------------------------------------------------------------------------\u001b[0m",
            "\u001b[0;31mTypeError\u001b[0m                                 Traceback (most recent call last)",
            "\u001b[0;32m<ipython-input-78-f05db5a8a585>\u001b[0m in \u001b[0;36m<cell line: 5>\u001b[0;34m()\u001b[0m\n\u001b[1;32m      3\u001b[0m \u001b[0mprint\u001b[0m\u001b[0;34m(\u001b[0m\u001b[0mt\u001b[0m\u001b[0;34m)\u001b[0m\u001b[0;34m\u001b[0m\u001b[0;34m\u001b[0m\u001b[0m\n\u001b[1;32m      4\u001b[0m \u001b[0;34m\u001b[0m\u001b[0m\n\u001b[0;32m----> 5\u001b[0;31m \u001b[0mt\u001b[0m\u001b[0;34m[\u001b[0m\u001b[0;36m2\u001b[0m\u001b[0;34m]\u001b[0m \u001b[0;34m+=\u001b[0m \u001b[0;34m[\u001b[0m\u001b[0;36m50\u001b[0m \u001b[0;34m,\u001b[0m\u001b[0;36m60\u001b[0m\u001b[0;34m]\u001b[0m\u001b[0;34m\u001b[0m\u001b[0;34m\u001b[0m\u001b[0m\n\u001b[0m",
            "\u001b[0;31mTypeError\u001b[0m: 'tuple' object does not support item assignment"
          ]
        }
      ]
    },
    {
      "cell_type": "code",
      "source": [
        "#예제34\n",
        "fruits = ['grape','raspberry','apple','banana']\n",
        "sorted(fruits)\n",
        "#['apple', 'banana', 'grape', 'raspberry']\n",
        "\n",
        "fruits\n",
        "#['grape', 'raspberry', 'apple', 'banana']\n",
        "\n",
        "sorted(fruits, reverse=True)\n",
        "#['raspberry', 'grape', 'banana', 'apple']\n",
        "\n",
        "sorted(fruits, key=len)\n",
        "#key=len: 요소의 길이별로 정렬"
      ],
      "metadata": {
        "colab": {
          "base_uri": "https://localhost:8080/"
        },
        "id": "FMbTaayoISCF",
        "outputId": "e414bc33-2a02-4187-cbcc-2591f7db4ca8"
      },
      "execution_count": 82,
      "outputs": [
        {
          "output_type": "execute_result",
          "data": {
            "text/plain": [
              "['frape', 'apple', 'banana', 'raspberry']"
            ]
          },
          "metadata": {},
          "execution_count": 82
        }
      ]
    },
    {
      "cell_type": "code",
      "source": [
        "#예제35\n",
        "fruits = ['grape','raspberry','apple','banana']\n",
        "sorted(fruits, key=len, reverse=True)\n",
        "#['raspberry', 'banana', 'grape', 'apple']\n",
        "\n",
        "fruits\n",
        "#['frape', 'raspberry', 'apple', 'banana']\n",
        "\n",
        "fruits.sort()\n",
        "fruits"
      ],
      "metadata": {
        "colab": {
          "base_uri": "https://localhost:8080/"
        },
        "id": "IRfJkSv07dHy",
        "outputId": "8d048956-fdd8-4536-f277-97d72fb76939"
      },
      "execution_count": 85,
      "outputs": [
        {
          "output_type": "execute_result",
          "data": {
            "text/plain": [
              "['apple', 'banana', 'grape', 'raspberry']"
            ]
          },
          "metadata": {},
          "execution_count": 85
        }
      ]
    },
    {
      "cell_type": "code",
      "source": [
        "#예제36\n",
        "from array import array\n",
        "from random import random\n",
        "\n",
        "floats = array('d', (random() for _ in range(10**7)))\n",
        "floats[-1]"
      ],
      "metadata": {
        "colab": {
          "base_uri": "https://localhost:8080/"
        },
        "id": "ZdHcWoFQI-ox",
        "outputId": "0720a683-fdb5-46be-a905-93c8ba3312fb"
      },
      "execution_count": 87,
      "outputs": [
        {
          "output_type": "execute_result",
          "data": {
            "text/plain": [
              "0.4062686287327043"
            ]
          },
          "metadata": {},
          "execution_count": 87
        }
      ]
    },
    {
      "cell_type": "code",
      "source": [
        "#예제37\n",
        "with open('floats.bin', 'wb') as f:\n",
        "    floats.tofile(f)\n",
        "\n",
        "floats2 = array('d')\n",
        "\n",
        "with open('floats.bin', 'rb') as f:\n",
        "      floats2.fromfile(f, 10**7)\n",
        "\n",
        "floats2[-1]\n",
        "#0.4062686287327043\n",
        "floats == floats2"
      ],
      "metadata": {
        "colab": {
          "base_uri": "https://localhost:8080/"
        },
        "id": "D7L1l1zOJQ2f",
        "outputId": "655975cd-9cfc-444d-af97-d7db460d155e"
      },
      "execution_count": 91,
      "outputs": [
        {
          "output_type": "execute_result",
          "data": {
            "text/plain": [
              "True"
            ]
          },
          "metadata": {},
          "execution_count": 91
        }
      ]
    },
    {
      "cell_type": "code",
      "source": [
        "#예제38\n",
        "import array\n",
        "numbers = array.array('h', [-2,-1,0,1,2])\n",
        "memv = memoryview(numbers)\n",
        "len(memv)\n",
        "#5\n",
        "\n",
        "memv[0]\n",
        "#-2\n",
        "\n",
        "memv_oct = memv.cast('B')\n",
        "memv_oct.tolist()\n",
        "#[254, 255, 255, 255, 0, 0, 1, 0, 2, 0]\n",
        "\n",
        "memv_oct[5] = 4\n",
        "numbers"
      ],
      "metadata": {
        "colab": {
          "base_uri": "https://localhost:8080/"
        },
        "id": "Gy6eJxpRJYDm",
        "outputId": "1f3d94e1-7842-479c-b3f6-dbfee2c48a78"
      },
      "execution_count": 96,
      "outputs": [
        {
          "output_type": "execute_result",
          "data": {
            "text/plain": [
              "array('h', [-2, -1, 1024, 1, 2])"
            ]
          },
          "metadata": {},
          "execution_count": 96
        }
      ]
    },
    {
      "cell_type": "code",
      "source": [
        "#예제39\n",
        "import numpy\n",
        "a = numpy.arange(12)\n",
        "a\n",
        "#array([ 0,  1,  2,  3,  4,  5,  6,  7,  8,  9, 10, 11])\n",
        "\n",
        "type(a)"
      ],
      "metadata": {
        "colab": {
          "base_uri": "https://localhost:8080/"
        },
        "id": "RpTaIivoJhG_",
        "outputId": "a1eeccda-1ab3-4d6c-8197-8e5f2f4135f5"
      },
      "execution_count": 98,
      "outputs": [
        {
          "output_type": "execute_result",
          "data": {
            "text/plain": [
              "numpy.ndarray"
            ]
          },
          "metadata": {},
          "execution_count": 98
        }
      ]
    },
    {
      "cell_type": "code",
      "source": [
        "#예제40\n",
        "import numpy\n",
        "a = numpy.arange(12)\n",
        "\n",
        "a.shape\n",
        "#(12,)\n",
        "\n",
        "a.shape = 3, 4\n",
        "a"
      ],
      "metadata": {
        "colab": {
          "base_uri": "https://localhost:8080/"
        },
        "id": "6Zsf50JpKOZd",
        "outputId": "72849385-9b10-4069-f955-8bc393b0c507"
      },
      "execution_count": 100,
      "outputs": [
        {
          "output_type": "execute_result",
          "data": {
            "text/plain": [
              "array([[ 0,  1,  2,  3],\n",
              "       [ 4,  5,  6,  7],\n",
              "       [ 8,  9, 10, 11]])"
            ]
          },
          "metadata": {},
          "execution_count": 100
        }
      ]
    },
    {
      "cell_type": "code",
      "source": [
        "#예제41\n",
        "import numpy\n",
        "a = numpy.arange(12)\n",
        "a.shape = 3, 4\n",
        "\n",
        "a[2]\n",
        "#array([ 8,  9, 10, 11])\n",
        "\n",
        "a[2,1]\n",
        "#9\n",
        "\n",
        "a[:, 1]\n",
        "#array([1, 5, 9])"
      ],
      "metadata": {
        "colab": {
          "base_uri": "https://localhost:8080/"
        },
        "id": "HcnruwZFKWXZ",
        "outputId": "2e345a29-8a71-4806-fc65-adc2105086df"
      },
      "execution_count": 103,
      "outputs": [
        {
          "output_type": "execute_result",
          "data": {
            "text/plain": [
              "array([1, 5, 9])"
            ]
          },
          "metadata": {},
          "execution_count": 103
        }
      ]
    },
    {
      "cell_type": "code",
      "source": [
        "#예제42\n",
        "import numpy\n",
        "a = numpy.arange(12)\n",
        "a.shape = 3, 4\n",
        "\n",
        "a.transpose()"
      ],
      "metadata": {
        "colab": {
          "base_uri": "https://localhost:8080/"
        },
        "id": "3yTyV9_1Kk07",
        "outputId": "c86026a1-5aee-4a3e-e223-d270359e2371"
      },
      "execution_count": 104,
      "outputs": [
        {
          "output_type": "execute_result",
          "data": {
            "text/plain": [
              "array([[ 0,  4,  8],\n",
              "       [ 1,  5,  9],\n",
              "       [ 2,  6, 10],\n",
              "       [ 3,  7, 11]])"
            ]
          },
          "metadata": {},
          "execution_count": 104
        }
      ]
    },
    {
      "cell_type": "code",
      "source": [
        "#예제43\n",
        "from collections import deque\n",
        "dq = deque(range(10), maxlen = 10)\n",
        "dq\n",
        "#eque([0, 1, 2, 3, 4, 5, 6, 7, 8, 9])\n",
        "\n",
        "dq.rotate(3)\n",
        "dq\n",
        "#deque([74, 5, 6, 7, 8, 9, 0, 1, 2, 3])\n",
        "\n",
        "dq.rotate(-4)\n",
        "dq\n",
        "#deque([8, 9, 0, 1, 2, 3, 4, 5, 6, 7])"
      ],
      "metadata": {
        "id": "cw3h13eUKp5m"
      },
      "execution_count": null,
      "outputs": []
    },
    {
      "cell_type": "code",
      "source": [
        "#예제44\n",
        "from collections import deque\n",
        "dq = deque(range(10), maxlen = 10)\n",
        "\n",
        "dq.appendleft(-1)\n",
        "dq\n",
        "#deque([-1, 8, 9, 0, 1, 2, 3, 4, 5, 6])\n",
        "\n",
        "dq.extend([11, 22, 33])\n",
        "dq\n",
        "#deque([0, 1, 2, 3, 4, 5 , 6, 11, 22, 33])\n",
        "\n",
        "dq.extendleft([10, 20, 30, 40])\n",
        "dq\n",
        "#deque([40, 30, 20, 10, 0, 1, 2, 3, 4, 5])"
      ],
      "metadata": {
        "id": "uaq2dgi3LL3q"
      },
      "execution_count": null,
      "outputs": []
    }
  ]
}