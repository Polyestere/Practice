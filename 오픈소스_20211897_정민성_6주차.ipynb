{
  "nbformat": 4,
  "nbformat_minor": 0,
  "metadata": {
    "colab": {
      "provenance": []
    },
    "kernelspec": {
      "name": "python3",
      "display_name": "Python 3"
    },
    "language_info": {
      "name": "python"
    }
  },
  "cells": [
    {
      "cell_type": "code",
      "execution_count": 39,
      "metadata": {
        "colab": {
          "base_uri": "https://localhost:8080/"
        },
        "id": "TjlzArnC1KPN",
        "outputId": "b674cb74-eaf1-417d-eed6-9d5fb40a7994"
      },
      "outputs": [
        {
          "output_type": "execute_result",
          "data": {
            "text/plain": [
              "4"
            ]
          },
          "metadata": {},
          "execution_count": 39
        }
      ],
      "source": [
        "#예제 10\n",
        "open('cafe.txt','w', encoding='utf8').write('café')"
      ]
    },
    {
      "cell_type": "code",
      "source": [
        "open('cafe.txt').read()"
      ],
      "metadata": {
        "id": "V0-H_Bew51fs",
        "colab": {
          "base_uri": "https://localhost:8080/",
          "height": 36
        },
        "outputId": "989d822d-2b90-4521-8541-33eb413c82e6"
      },
      "execution_count": 40,
      "outputs": [
        {
          "output_type": "execute_result",
          "data": {
            "text/plain": [
              "'café'"
            ],
            "application/vnd.google.colaboratory.intrinsic+json": {
              "type": "string"
            }
          },
          "metadata": {},
          "execution_count": 40
        }
      ]
    },
    {
      "cell_type": "code",
      "source": [
        "#예제11\n",
        "\n",
        "import sys, locale\n",
        "expressions = \"\"\"\n",
        "        locale.getpreferredencoding()\n",
        "        type(my_file)\n",
        "        sys.stdout.isatty()\n",
        "        sys.stdout.encoding\n",
        "        sys.stdin.isatty()\n",
        "        sys.stdin.encoding\n",
        "        sys.stderr.isatty()\n",
        "        sys.stderr.encoding\n",
        "        sys.getdefaultencoding()\n",
        "        sys.getfilesystemencoding()\n",
        "  \"\"\"\n",
        "\n",
        "my_file = open('dummy','w')\n",
        "\n",
        "for expression in expressions.split():\n",
        "    value = eval(expression)\n",
        "    print(expression.rjust(30), '->', repr(value))"
      ],
      "metadata": {
        "colab": {
          "base_uri": "https://localhost:8080/"
        },
        "id": "wTu9Ggwp6WWg",
        "outputId": "4a79fba1-1cea-43ae-8842-ba6c44467d9a"
      },
      "execution_count": 41,
      "outputs": [
        {
          "output_type": "stream",
          "name": "stdout",
          "text": [
            " locale.getpreferredencoding() -> 'UTF-8'\n",
            "                 type(my_file) -> <class '_io.TextIOWrapper'>\n",
            "           sys.stdout.isatty() -> False\n",
            "           sys.stdout.encoding -> 'UTF-8'\n",
            "            sys.stdin.isatty() -> False\n",
            "            sys.stdin.encoding -> 'utf-8'\n",
            "           sys.stderr.isatty() -> False\n",
            "           sys.stderr.encoding -> 'UTF-8'\n",
            "      sys.getdefaultencoding() -> 'utf-8'\n",
            "   sys.getfilesystemencoding() -> 'utf-8'\n"
          ]
        }
      ]
    },
    {
      "cell_type": "code",
      "source": [
        "#예제12\n",
        "from unicodedata import normalize\n",
        "s1, s2 = 'cafe', 'café'\n",
        "len(normalize('NFC',s1)), len(normalize('NFC',s2))"
      ],
      "metadata": {
        "id": "9dAIHNcf6WQn",
        "colab": {
          "base_uri": "https://localhost:8080/"
        },
        "outputId": "b3a0355e-342f-4031-96d1-6cd143fd5a20"
      },
      "execution_count": 42,
      "outputs": [
        {
          "output_type": "execute_result",
          "data": {
            "text/plain": [
              "(4, 4)"
            ]
          },
          "metadata": {},
          "execution_count": 42
        }
      ]
    },
    {
      "cell_type": "code",
      "source": [
        "len(normalize('NFD',s1)), len(normalize('NFD',s2))"
      ],
      "metadata": {
        "id": "PCIf4dhU6WNG",
        "colab": {
          "base_uri": "https://localhost:8080/"
        },
        "outputId": "c84b2e5d-5859-4d01-a508-fb8bcc55aa06"
      },
      "execution_count": 43,
      "outputs": [
        {
          "output_type": "execute_result",
          "data": {
            "text/plain": [
              "(4, 5)"
            ]
          },
          "metadata": {},
          "execution_count": 43
        }
      ]
    },
    {
      "cell_type": "code",
      "source": [
        "normalize('NFC',s1), normalize('NFC',s2)"
      ],
      "metadata": {
        "id": "BHgLd_Gy6WKR",
        "colab": {
          "base_uri": "https://localhost:8080/"
        },
        "outputId": "d59b48e1-c671-484f-8b25-2e763f80586f"
      },
      "execution_count": 44,
      "outputs": [
        {
          "output_type": "execute_result",
          "data": {
            "text/plain": [
              "('cafe', 'café')"
            ]
          },
          "metadata": {},
          "execution_count": 44
        }
      ]
    },
    {
      "cell_type": "code",
      "source": [
        "normalize('NFD',s1), normalize('NFD',s2)"
      ],
      "metadata": {
        "id": "5efcu5XX6WHX",
        "colab": {
          "base_uri": "https://localhost:8080/"
        },
        "outputId": "a11d0b58-3a7d-4255-bc13-f421bb8071dd"
      },
      "execution_count": 45,
      "outputs": [
        {
          "output_type": "execute_result",
          "data": {
            "text/plain": [
              "('cafe', 'café')"
            ]
          },
          "metadata": {},
          "execution_count": 45
        }
      ]
    },
    {
      "cell_type": "code",
      "source": [
        "normalize('NFC',s1) == normalize('NFC',s2)"
      ],
      "metadata": {
        "id": "oeRrlDAc6WBk",
        "colab": {
          "base_uri": "https://localhost:8080/"
        },
        "outputId": "d345b64d-6948-4a7e-d1e7-6f7cbd2beabb"
      },
      "execution_count": 46,
      "outputs": [
        {
          "output_type": "execute_result",
          "data": {
            "text/plain": [
              "False"
            ]
          },
          "metadata": {},
          "execution_count": 46
        }
      ]
    },
    {
      "cell_type": "code",
      "source": [
        "normalize('NFD',s1) ==  normalize('NFD',s2)"
      ],
      "metadata": {
        "id": "MAbAUxQc6VuK",
        "colab": {
          "base_uri": "https://localhost:8080/"
        },
        "outputId": "047d6efc-7822-4f29-cf7b-cb0fcfe3bc15"
      },
      "execution_count": 47,
      "outputs": [
        {
          "output_type": "execute_result",
          "data": {
            "text/plain": [
              "False"
            ]
          },
          "metadata": {},
          "execution_count": 47
        }
      ]
    },
    {
      "cell_type": "code",
      "source": [
        "#예제 13\n",
        "from unicodedata import normalize, name\n",
        "ohm  = '\\u2126'\n",
        "name(ohm)"
      ],
      "metadata": {
        "colab": {
          "base_uri": "https://localhost:8080/",
          "height": 36
        },
        "id": "UBuhVgQp8_od",
        "outputId": "eb46b460-c282-4eec-99be-41825c0f88bf"
      },
      "execution_count": 48,
      "outputs": [
        {
          "output_type": "execute_result",
          "data": {
            "text/plain": [
              "'OHM SIGN'"
            ],
            "application/vnd.google.colaboratory.intrinsic+json": {
              "type": "string"
            }
          },
          "metadata": {},
          "execution_count": 48
        }
      ]
    },
    {
      "cell_type": "code",
      "source": [
        "ohm_c = normalize('NFC', ohm)\n",
        "name(ohm_c)"
      ],
      "metadata": {
        "colab": {
          "base_uri": "https://localhost:8080/",
          "height": 36
        },
        "id": "euHpPWcd9Ms7",
        "outputId": "3ff5dba4-72a8-4240-c2c2-6ba539bad4e0"
      },
      "execution_count": 49,
      "outputs": [
        {
          "output_type": "execute_result",
          "data": {
            "text/plain": [
              "'GREEK CAPITAL LETTER OMEGA'"
            ],
            "application/vnd.google.colaboratory.intrinsic+json": {
              "type": "string"
            }
          },
          "metadata": {},
          "execution_count": 49
        }
      ]
    },
    {
      "cell_type": "code",
      "source": [
        "ohm, ohm_c, ohm == ohm_c"
      ],
      "metadata": {
        "colab": {
          "base_uri": "https://localhost:8080/"
        },
        "id": "TF-bQSl09Mi_",
        "outputId": "0dc350b8-d86a-4c9d-e7fb-452b6fe0ad2f"
      },
      "execution_count": 50,
      "outputs": [
        {
          "output_type": "execute_result",
          "data": {
            "text/plain": [
              "('Ω', 'Ω', False)"
            ]
          },
          "metadata": {},
          "execution_count": 50
        }
      ]
    },
    {
      "cell_type": "code",
      "source": [
        "normalize('NFC',ohm) == normalize('NFC',ohm_c)"
      ],
      "metadata": {
        "colab": {
          "base_uri": "https://localhost:8080/"
        },
        "id": "JqsxhojG9Mfe",
        "outputId": "6f277563-130d-4e12-eea9-df93f0c817ff"
      },
      "execution_count": 51,
      "outputs": [
        {
          "output_type": "execute_result",
          "data": {
            "text/plain": [
              "True"
            ]
          },
          "metadata": {},
          "execution_count": 51
        }
      ]
    },
    {
      "cell_type": "code",
      "source": [
        "#예제14\n",
        "eszett = 'ß'\n",
        "name(eszett)"
      ],
      "metadata": {
        "colab": {
          "base_uri": "https://localhost:8080/",
          "height": 36
        },
        "id": "xgsbwXlE9McI",
        "outputId": "5ebdc34d-97f0-416d-febf-fa9f1ea3eb71"
      },
      "execution_count": 52,
      "outputs": [
        {
          "output_type": "execute_result",
          "data": {
            "text/plain": [
              "'LATIN SMALL LETTER SHARP S'"
            ],
            "application/vnd.google.colaboratory.intrinsic+json": {
              "type": "string"
            }
          },
          "metadata": {},
          "execution_count": 52
        }
      ]
    },
    {
      "cell_type": "code",
      "source": [
        "eszett_cf = eszett.casefold()\n",
        "eszett_cf2 = eszett.lower()\n",
        "eszett, eszett_cf, eszett_cf2"
      ],
      "metadata": {
        "colab": {
          "base_uri": "https://localhost:8080/"
        },
        "id": "aLnlfG6H9o-0",
        "outputId": "3fd0b6e3-09c4-47ad-f7d6-1c682517338b"
      },
      "execution_count": 53,
      "outputs": [
        {
          "output_type": "execute_result",
          "data": {
            "text/plain": [
              "('ß', 'ss', 'ß')"
            ]
          },
          "metadata": {},
          "execution_count": 53
        }
      ]
    },
    {
      "cell_type": "code",
      "source": [
        "#예제15\n",
        "s1 = 'café'\n",
        "s2 = 'cafe\\u0301'\n",
        "s1 == s2"
      ],
      "metadata": {
        "id": "7u8mGoUN9o7e",
        "colab": {
          "base_uri": "https://localhost:8080/"
        },
        "outputId": "00e67474-bcee-4de2-bd97-74d41a44ebff"
      },
      "execution_count": 54,
      "outputs": [
        {
          "output_type": "execute_result",
          "data": {
            "text/plain": [
              "False"
            ]
          },
          "metadata": {},
          "execution_count": 54
        }
      ]
    },
    {
      "cell_type": "code",
      "source": [
        "from unicodedata import normalize\n",
        "\n",
        "def nfc_equal(str1, str2):\n",
        "    return normalize('NFC', str1) == normalize('NFC', str2)\n",
        "\n",
        "def fold_equal(str1, str2):\n",
        "    return (normalize('NFC', str1).casefold() ==\n",
        "           normalize('NFC', str2).casefold())\n",
        "\n",
        "nfc_equal(s1,s2)\n",
        "\n",
        "\n",
        "\n"
      ],
      "metadata": {
        "id": "fMaoBl4i9o3B",
        "colab": {
          "base_uri": "https://localhost:8080/"
        },
        "outputId": "e58fb1ca-55af-4868-8617-663e7e0933ea"
      },
      "execution_count": 55,
      "outputs": [
        {
          "output_type": "execute_result",
          "data": {
            "text/plain": [
              "True"
            ]
          },
          "metadata": {},
          "execution_count": 55
        }
      ]
    },
    {
      "cell_type": "code",
      "source": [
        "nfc_equal('A','a')"
      ],
      "metadata": {
        "id": "qGU2UMUj-v_L",
        "colab": {
          "base_uri": "https://localhost:8080/"
        },
        "outputId": "ebd0cf2f-9133-456c-f054-168032319098"
      },
      "execution_count": 56,
      "outputs": [
        {
          "output_type": "execute_result",
          "data": {
            "text/plain": [
              "False"
            ]
          },
          "metadata": {},
          "execution_count": 56
        }
      ]
    },
    {
      "cell_type": "code",
      "source": [
        "s3 = 'Straße'\n",
        "s4 = 'strasse'\n",
        "\n",
        "s3 == s4"
      ],
      "metadata": {
        "id": "f0i6k4dw-v5D",
        "colab": {
          "base_uri": "https://localhost:8080/"
        },
        "outputId": "296dc13d-e58c-488c-c9a8-12eeb8498328"
      },
      "execution_count": 57,
      "outputs": [
        {
          "output_type": "execute_result",
          "data": {
            "text/plain": [
              "False"
            ]
          },
          "metadata": {},
          "execution_count": 57
        }
      ]
    },
    {
      "cell_type": "code",
      "source": [
        "nfc_equal(s3, s4)"
      ],
      "metadata": {
        "id": "APmc7MaH-vvI",
        "colab": {
          "base_uri": "https://localhost:8080/"
        },
        "outputId": "080a1745-8a91-40c2-bad2-ce42e48e6c92"
      },
      "execution_count": 58,
      "outputs": [
        {
          "output_type": "execute_result",
          "data": {
            "text/plain": [
              "False"
            ]
          },
          "metadata": {},
          "execution_count": 58
        }
      ]
    },
    {
      "cell_type": "code",
      "source": [
        "fold_equal(s3,s4)"
      ],
      "metadata": {
        "id": "rpeS_1y1-vox",
        "colab": {
          "base_uri": "https://localhost:8080/"
        },
        "outputId": "466f0b43-29d1-47f5-945f-d552056bd5f1"
      },
      "execution_count": 59,
      "outputs": [
        {
          "output_type": "execute_result",
          "data": {
            "text/plain": [
              "True"
            ]
          },
          "metadata": {},
          "execution_count": 59
        }
      ]
    },
    {
      "cell_type": "code",
      "source": [
        "fold_equal(s1,s2)"
      ],
      "metadata": {
        "id": "AzLBOYP-9oz_",
        "colab": {
          "base_uri": "https://localhost:8080/"
        },
        "outputId": "1adfd912-a18f-47e2-a2e2-2456f78d03a1"
      },
      "execution_count": 60,
      "outputs": [
        {
          "output_type": "execute_result",
          "data": {
            "text/plain": [
              "True"
            ]
          },
          "metadata": {},
          "execution_count": 60
        }
      ]
    },
    {
      "cell_type": "code",
      "source": [
        "fold_equal('A','a')"
      ],
      "metadata": {
        "id": "5JiWWdR09ov_",
        "colab": {
          "base_uri": "https://localhost:8080/"
        },
        "outputId": "0c6d6fd7-d271-4f76-f3f0-c6542091f1b8"
      },
      "execution_count": 61,
      "outputs": [
        {
          "output_type": "execute_result",
          "data": {
            "text/plain": [
              "True"
            ]
          },
          "metadata": {},
          "execution_count": 61
        }
      ]
    },
    {
      "cell_type": "code",
      "source": [
        "#예제 16\n",
        "import unicodedata\n",
        "import string\n",
        "def shave_marks(txt):\n",
        "    \"\"\"발음 구별 기호를 모두 제거한다\"\"\"\n",
        "    norm_txt = unicodedata.normalize('NFD', txt)\n",
        "    shaved = ''.join(c for c in norm_txt if not unicodedata.combining(c))\n",
        "    return unicodedata.normalize('NFC', shaved)"
      ],
      "metadata": {
        "id": "8d-drufq_Ekd"
      },
      "execution_count": 62,
      "outputs": []
    },
    {
      "cell_type": "code",
      "source": [
        "order = '\"Herr Voß: cup of Etker™ caffè latte bowl of açaí.\"'\n",
        "shave_marks(order)"
      ],
      "metadata": {
        "id": "ieJ_ytZv_Eg8",
        "colab": {
          "base_uri": "https://localhost:8080/",
          "height": 36
        },
        "outputId": "e111053a-f0d6-4547-d14c-fb6f0842e771"
      },
      "execution_count": 63,
      "outputs": [
        {
          "output_type": "execute_result",
          "data": {
            "text/plain": [
              "'\"Herr Voß: cup of Etker™ caffe latte bowl of acai.\"'"
            ],
            "application/vnd.google.colaboratory.intrinsic+json": {
              "type": "string"
            }
          },
          "metadata": {},
          "execution_count": 63
        }
      ]
    },
    {
      "cell_type": "code",
      "source": [
        "Greek = 'Ζέφυρος, Zéfiro'\n",
        "shave_marks(Greek)"
      ],
      "metadata": {
        "id": "HBqq4IGB_Eex",
        "colab": {
          "base_uri": "https://localhost:8080/",
          "height": 36
        },
        "outputId": "ac7cf086-d99d-42d3-8f06-30f52504cdda"
      },
      "execution_count": 64,
      "outputs": [
        {
          "output_type": "execute_result",
          "data": {
            "text/plain": [
              "'Ζεφυρος, Zefiro'"
            ],
            "application/vnd.google.colaboratory.intrinsic+json": {
              "type": "string"
            }
          },
          "metadata": {},
          "execution_count": 64
        }
      ]
    },
    {
      "cell_type": "code",
      "source": [
        "shave_marks('Straße')"
      ],
      "metadata": {
        "id": "ypDn4BZI_Ecb",
        "colab": {
          "base_uri": "https://localhost:8080/",
          "height": 36
        },
        "outputId": "2dcd84d1-7975-4e9c-caa0-c33b07b41768"
      },
      "execution_count": 65,
      "outputs": [
        {
          "output_type": "execute_result",
          "data": {
            "text/plain": [
              "'Straße'"
            ],
            "application/vnd.google.colaboratory.intrinsic+json": {
              "type": "string"
            }
          },
          "metadata": {},
          "execution_count": 65
        }
      ]
    },
    {
      "cell_type": "code",
      "source": [
        "shave_marks('café')"
      ],
      "metadata": {
        "id": "65OJs0M0ER02",
        "colab": {
          "base_uri": "https://localhost:8080/",
          "height": 36
        },
        "outputId": "ab6cd761-bd30-4a7e-dae8-da3847b5e215"
      },
      "execution_count": 66,
      "outputs": [
        {
          "output_type": "execute_result",
          "data": {
            "text/plain": [
              "'cafe'"
            ],
            "application/vnd.google.colaboratory.intrinsic+json": {
              "type": "string"
            }
          },
          "metadata": {},
          "execution_count": 66
        }
      ]
    },
    {
      "cell_type": "code",
      "source": [
        "#예제 17\n",
        "def shave_marks_latin(txt):\n",
        "    \"\"\"Remove all diacritic marks from Latin base characters\"\"\"\n",
        "    norm_txt = unicodedata.normalize('NFD', txt)\n",
        "\n",
        "    latin_base = False\n",
        "    keepers = []\n",
        "\n",
        "    for c in norm_txt:\n",
        "      if unicodedata.combining(c) and latin_base:\n",
        "        continue\n",
        "\n",
        "      keepers.append(c)\n",
        "\n",
        "      if not unicodedata.combining(c):\n",
        "        latin_base = c in string.ascii_letters\n",
        "\n",
        "    shaved = '.join(keepers)'\n",
        "    return unicodedata.normalize('NFC', shaved)"
      ],
      "metadata": {
        "id": "WwnvAlwvERxf"
      },
      "execution_count": 67,
      "outputs": []
    },
    {
      "cell_type": "code",
      "source": [
        "#예제 18 ??????\n",
        "single_map = str.maketrans(\"\"\"‚ƒ„†ˆ‹‘’“”•–—˜›\"\"\",\n",
        "                           \"\"\"'f\"*^<''\"\"---~>\"\"\")\n",
        "\n",
        "multi_map = str.maketrans({\n",
        "    '€': '<euro>',\n",
        "    '…': '...',\n",
        "    'Œ': 'OE',\n",
        "    '™': '(TM)',\n",
        "    'œ': 'oe',\n",
        "    '‰': '<per mille>',\n",
        "    '‡': '**',\n",
        "})\n",
        "\n",
        "multi_map.update(single_map)\n",
        "\n",
        "def dewinize(txt):\n",
        "    \"\"\"Replace Win1252 symbols with ASCII chars or sequences\"\"\"\n",
        "    return txt.translate(multi_map)\n",
        "\n",
        "def asciize(txt):\n",
        "    no_marks = shave_marks_latin(dewinize(txt))\n",
        "    no_marks = no_marks.replace('ß', 'ss')\n",
        "    return unicodedata.normalize('NFKC', no_marks)"
      ],
      "metadata": {
        "id": "TKG7bHC8ERvi"
      },
      "execution_count": 68,
      "outputs": []
    },
    {
      "cell_type": "code",
      "source": [
        "#예제 19\n",
        "fruits = ['caju', 'atemoia', 'cajá', 'açaí', 'acerola']\n",
        "sorted(fruits)"
      ],
      "metadata": {
        "colab": {
          "base_uri": "https://localhost:8080/"
        },
        "id": "xcp71VMtERs8",
        "outputId": "39fcd15c-8190-48fa-982a-e55b2ecbffdf"
      },
      "execution_count": 69,
      "outputs": [
        {
          "output_type": "execute_result",
          "data": {
            "text/plain": [
              "['acerola', 'atemoia', 'açaí', 'caju', 'cajá']"
            ]
          },
          "metadata": {},
          "execution_count": 69
        }
      ]
    },
    {
      "cell_type": "code",
      "source": [
        "#예제 20\n",
        "!pip install pyuca"
      ],
      "metadata": {
        "colab": {
          "base_uri": "https://localhost:8080/"
        },
        "id": "0LBhUh1QERqk",
        "outputId": "e9eb034f-b097-4a47-81f7-c2ddb3ed0d6e"
      },
      "execution_count": 70,
      "outputs": [
        {
          "output_type": "stream",
          "name": "stdout",
          "text": [
            "Requirement already satisfied: pyuca in /usr/local/lib/python3.10/dist-packages (1.2)\n"
          ]
        }
      ]
    },
    {
      "cell_type": "code",
      "source": [
        "import pyuca\n",
        "coll = pyuca.Collator()\n",
        "fruits = ['caju', 'atemoia', 'cajá', 'açaí', 'acerola']\n",
        "sorted_fruits = sorted(fruits, key=coll.sort_key)\n",
        "sorted_fruits"
      ],
      "metadata": {
        "colab": {
          "base_uri": "https://localhost:8080/"
        },
        "id": "3Be1iykZERn2",
        "outputId": "4e9dbeca-5145-4994-dc2b-b5fafeafa984"
      },
      "execution_count": 71,
      "outputs": [
        {
          "output_type": "execute_result",
          "data": {
            "text/plain": [
              "['açaí', 'acerola', 'atemoia', 'cajá', 'caju']"
            ]
          },
          "metadata": {},
          "execution_count": 71
        }
      ]
    },
    {
      "cell_type": "code",
      "source": [
        "#예제 21\n",
        "import unicodedata\n",
        "import re\n",
        "re_digit = re.compile(r'\\d')\n",
        "sample = '1\\xbc\\xb2\\u0969\\u136b\\u216b\\u2466\\u2480\\u3285'\n",
        "for char in sample:\n",
        "  print('U+%04x' % ord(char),\n",
        "        char.center(6),\n",
        "        're_dig' if re_digit.match(char) else '-',\n",
        "        'isdig' if char. isdigit() else '-',\n",
        "        'isnum' if char.isnumeric() else '-',\n",
        "        format(unicodedata.numeric(char), '5.2f'),\n",
        "        unicodedata.name(char),\n",
        "        sep = '\\t')"
      ],
      "metadata": {
        "colab": {
          "base_uri": "https://localhost:8080/"
        },
        "id": "jt8k80B1ERlP",
        "outputId": "e8cdfd00-caaa-47ed-80cb-633b7d311d54"
      },
      "execution_count": 72,
      "outputs": [
        {
          "output_type": "stream",
          "name": "stdout",
          "text": [
            "U+0031\t  1   \tre_dig\tisdig\tisnum\t 1.00\tDIGIT ONE\n",
            "U+00bc\t  ¼   \t-\t-\tisnum\t 0.25\tVULGAR FRACTION ONE QUARTER\n",
            "U+00b2\t  ²   \t-\tisdig\tisnum\t 2.00\tSUPERSCRIPT TWO\n",
            "U+0969\t  ३   \tre_dig\tisdig\tisnum\t 3.00\tDEVANAGARI DIGIT THREE\n",
            "U+136b\t  ፫   \t-\tisdig\tisnum\t 3.00\tETHIOPIC DIGIT THREE\n",
            "U+216b\t  Ⅻ   \t-\t-\tisnum\t12.00\tROMAN NUMERAL TWELVE\n",
            "U+2466\t  ⑦   \t-\tisdig\tisnum\t 7.00\tCIRCLED DIGIT SEVEN\n",
            "U+2480\t  ⒀   \t-\t-\tisnum\t13.00\tPARENTHESIZED NUMBER THIRTEEN\n",
            "U+3285\t  ㊅   \t-\t-\tisnum\t 6.00\tCIRCLED IDEOGRAPH SIX\n"
          ]
        }
      ]
    },
    {
      "cell_type": "code",
      "source": [
        "#예제 22\n",
        "import re\n",
        "\n",
        "re_numbers_str = re.compile(r'\\d+')\n",
        "re_words_str = re.compile(r'\\w+')\n",
        "re_numbers_bytes = re.compile(rb'\\d+')\n",
        "re_words_bytes = re.compile(rb'\\w+')\n",
        "\n",
        "text_str = (\"Ramanujan saw \\u0be7\\u0bed\\u0be8\\u0bef\"\n",
        "            \" as 1729 = 1^3 + 12^3 = 9^3 + 10^3.\")\n",
        "\n",
        "text_bytes = text_str.encode('utf_8')\n",
        "\n",
        "print('Text', repr(text_str), sep='\\n')\n",
        "print('Numbers')\n",
        "print('str', re_numbers_str.findall(text_str))\n",
        "print('bytes:', re_numbers_bytes.findall(text_bytes))\n",
        "print('Words')\n",
        "print('str', re_words_str.findall(text_str))\n",
        "print(' bytes:', re_words_bytes.findall(text_bytes))"
      ],
      "metadata": {
        "colab": {
          "base_uri": "https://localhost:8080/"
        },
        "id": "4e3uqi0wKPmN",
        "outputId": "1e06d624-0ae6-4640-cf24-535a3b5e8b29"
      },
      "execution_count": 73,
      "outputs": [
        {
          "output_type": "stream",
          "name": "stdout",
          "text": [
            "Text\n",
            "'Ramanujan saw ௧௭௨௯ as 1729 = 1^3 + 12^3 = 9^3 + 10^3.'\n",
            "Numbers\n",
            "str ['௧௭௨௯', '1729', '1', '3', '12', '3', '9', '3', '10', '3']\n",
            "bytes: [b'1729', b'1', b'3', b'12', b'3', b'9', b'3', b'10', b'3']\n",
            "Words\n",
            "str ['Ramanujan', 'saw', '௧௭௨௯', 'as', '1729', '1', '3', '12', '3', '9', '3', '10', '3']\n",
            " bytes: [b'Ramanujan', b'saw', b'as', b'1729', b'1', b'3', b'12', b'3', b'9', b'3', b'10', b'3']\n"
          ]
        }
      ]
    },
    {
      "cell_type": "code",
      "source": [
        "#예제23\n",
        "import os\n",
        "\n",
        "os.listdir('.')"
      ],
      "metadata": {
        "colab": {
          "base_uri": "https://localhost:8080/"
        },
        "id": "u4sOE6nMKPio",
        "outputId": "fed286a8-aa6a-4d0e-9164-591c8ef30281"
      },
      "execution_count": 74,
      "outputs": [
        {
          "output_type": "execute_result",
          "data": {
            "text/plain": [
              "['.config',\n",
              " '.ipynb_checkpoints',\n",
              " 'dummy',\n",
              " 'fluent_python',\n",
              " 'cafe.txt',\n",
              " 'sample_data']"
            ]
          },
          "metadata": {},
          "execution_count": 74
        }
      ]
    },
    {
      "cell_type": "code",
      "source": [
        "os.listdir(b'.')"
      ],
      "metadata": {
        "colab": {
          "base_uri": "https://localhost:8080/"
        },
        "id": "sBZwvaQDKPfv",
        "outputId": "db702613-a754-45f1-e45f-1f911ae26c05"
      },
      "execution_count": 75,
      "outputs": [
        {
          "output_type": "execute_result",
          "data": {
            "text/plain": [
              "[b'.config',\n",
              " b'.ipynb_checkpoints',\n",
              " b'dummy',\n",
              " b'fluent_python',\n",
              " b'cafe.txt',\n",
              " b'sample_data']"
            ]
          },
          "metadata": {},
          "execution_count": 75
        }
      ]
    },
    {
      "cell_type": "code",
      "source": [
        "#예제24\n",
        "os.listdir('./fluent_python')"
      ],
      "metadata": {
        "colab": {
          "base_uri": "https://localhost:8080/"
        },
        "id": "UwkBFGa4LvEF",
        "outputId": "a9a1a468-e1f7-47ae-ccd6-f6cb9804f2c4"
      },
      "execution_count": 76,
      "outputs": [
        {
          "output_type": "execute_result",
          "data": {
            "text/plain": [
              "['.ipynb_checkpoints', 'digits-of-π.txt']"
            ]
          },
          "metadata": {},
          "execution_count": 76
        }
      ]
    },
    {
      "cell_type": "code",
      "source": [
        "os.listdir(b'./fluent_python')"
      ],
      "metadata": {
        "id": "jHxDw2woL6rJ",
        "colab": {
          "base_uri": "https://localhost:8080/"
        },
        "outputId": "e91e1e22-09a1-4900-f787-38a547b6e14d"
      },
      "execution_count": 77,
      "outputs": [
        {
          "output_type": "execute_result",
          "data": {
            "text/plain": [
              "[b'.ipynb_checkpoints', b'digits-of-\\xcf\\x80.txt']"
            ]
          },
          "metadata": {},
          "execution_count": 77
        }
      ]
    },
    {
      "cell_type": "code",
      "source": [
        "pi_name_bytes = os.listdir(b'.')[1]\n",
        "pi_name_str = pi_name_bytes.decode('ascii','surrogateescape')\n",
        "pi_name_str"
      ],
      "metadata": {
        "colab": {
          "base_uri": "https://localhost:8080/",
          "height": 36
        },
        "id": "Qjvt4csJL7lf",
        "outputId": "81480b50-93b2-4968-f7ff-b1171a35fa19"
      },
      "execution_count": 78,
      "outputs": [
        {
          "output_type": "execute_result",
          "data": {
            "text/plain": [
              "'.ipynb_checkpoints'"
            ],
            "application/vnd.google.colaboratory.intrinsic+json": {
              "type": "string"
            }
          },
          "metadata": {},
          "execution_count": 78
        }
      ]
    }
  ]
}